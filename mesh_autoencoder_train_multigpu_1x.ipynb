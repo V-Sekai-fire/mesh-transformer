{
  "cells": [
    {
      "cell_type": "code",
      "execution_count": null,
      "metadata": {},
      "outputs": [],
      "source": [
        "%pip install git+https://github.com/MarcusLoppe/meshgpt-pytorch.git\n",
        "%pip install matplotlib\n",
        "%pip install accelerate"
      ]
    },
    {
      "cell_type": "code",
      "execution_count": null,
      "metadata": {},
      "outputs": [],
      "source": [
        "from pathlib import Path \n",
        "import gc    \n",
        "import torch\n",
        "import os\n",
        "import torch\n",
        "from meshgpt_pytorch import (\n",
        "    MeshTransformerTrainer,\n",
        "    MeshAutoencoderTrainer,\n",
        "    MeshAutoencoder,\n",
        "    MeshTransformer,MeshDataset\n",
        ")\n",
        "from meshgpt_pytorch.data import ( \n",
        "    derive_face_edges_from_faces\n",
        ")"
      ]
    },
    {
      "cell_type": "code",
      "execution_count": null,
      "metadata": {},
      "outputs": [],
      "source": [
        "%cd /root/mesh-transformer"
      ]
    },
    {
      "cell_type": "code",
      "execution_count": null,
      "metadata": {},
      "outputs": [],
      "source": [
        "from accelerate import notebook_launcher\n",
        "def training_function(num_processes=2):\n",
        "    autoencoder = MeshAutoencoder( \n",
        "        decoder_dims_through_depth =  (128,) * 6 + (192,) * 12 + (256,) * 24 + (384,) * 6,   \n",
        "        codebook_size = 2048, \n",
        "        dim_codebook = 192,  \n",
        "        dim_area_embed = 16,\n",
        "        dim_coor_embed = 16, \n",
        "        dim_normal_embed = 16,\n",
        "        dim_angle_embed = 8, \n",
        "        attn_decoder_depth  = 4,\n",
        "        attn_encoder_depth = 2) \n",
        "    \n",
        "    pkg = torch.load(\"./mesh-autoencoder.ckpt.epoch_0_avg_loss_-0.06490_recon_0.3518_commit_-0.8334.pt\")  \n",
        "    autoencoder.load_state_dict(pkg['model'], strict = False) \n",
        "    \n",
        "    dataset = MeshDataset.load(\"./objverse_250f_490.7M_all_17561_labels_568425_5_min_x5_aug.npz\")  \n",
        "    dataset2 = MeshDataset.load(\"./objverse_250f_98.1M_all_17561_labels_113685_5_min_x1_aug.npz\")\n",
        "    dataset.data.extend(dataset2.data)  \n",
        "    dataset2 = MeshDataset.load(\"./shapenet_250f_2.2M_84_labels_2156_10_min_x1_aug.npz\")  \n",
        "    dataset.data.extend(dataset2.data)  \n",
        "    dataset2 = MeshDataset.load(\"./shapenet_250f_21.9M_84_labels_21560_10_min_x10_aug.npz\")  \n",
        "    dataset.data.extend(dataset2.data) \n",
        "    dataset.sort_dataset_keys() \n",
        "         \n",
        "    autoencoder.commit_loss_weight = 0.5\n",
        "    autoencoder_trainer = MeshAutoencoderTrainer(model =autoencoder ,warmup_steps = 10, dataset = dataset, num_train_steps=100,\n",
        "                                                 batch_size=32,\n",
        "                                                 grad_accum_every =2,\n",
        "                                                 learning_rate = 1e-4,\n",
        "                                                 checkpoint_every_epoch=1)  \n",
        "    _loss1 = autoencoder_trainer.train(14445,  diplay_graph= False)        \n",
        " \n",
        "args = ()\n",
        "notebook_launcher(training_function, args, num_processes=1)"
      ]
    },
    {
      "cell_type": "code",
      "execution_count": null,
      "metadata": {},
      "outputs": [],
      "source": []
    }
  ],
  "metadata": {
    "accelerator": "GPU",
    "colab": {
      "gpuType": "A100",
      "include_colab_link": true,
      "machine_shape": "hm",
      "provenance": []
    },
    "kaggle": {
      "accelerator": "gpu",
      "dataSources": [
        {
          "datasetId": 5157660,
          "sourceId": 8617083,
          "sourceType": "datasetVersion"
        },
        {
          "datasetId": 5157661,
          "sourceId": 8617085,
          "sourceType": "datasetVersion"
        }
      ],
      "dockerImageVersionId": 30733,
      "isGpuEnabled": true,
      "isInternetEnabled": true,
      "language": "python",
      "sourceType": "notebook"
    },
    "kernelspec": {
      "display_name": "Python 3",
      "name": "python3"
    },
    "language_info": {
      "codemirror_mode": {
        "name": "ipython",
        "version": 3
      },
      "file_extension": ".py",
      "mimetype": "text/x-python",
      "name": "python",
      "nbconvert_exporter": "python",
      "pygments_lexer": "ipython3",
      "version": "3.10.12"
    }
  },
  "nbformat": 4,
  "nbformat_minor": 0
}
