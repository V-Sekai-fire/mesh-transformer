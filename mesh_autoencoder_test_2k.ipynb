{
 "cells": [
  {
   "cell_type": "code",
   "execution_count": 1,
   "id": "b2e9bbe1",
   "metadata": {},
   "outputs": [
    {
     "name": "stdout",
     "output_type": "stream",
     "text": [
      "Collecting git+https://github.com/MarcusLoppe/meshgpt-pytorch.git\n",
      "  Cloning https://github.com/MarcusLoppe/meshgpt-pytorch.git to c:\\users\\ernest.lee\\appdata\\local\\temp\\pip-req-build-w6d3j29h\n",
      "  Resolved https://github.com/MarcusLoppe/meshgpt-pytorch.git to commit ecf72c716f6378a9bb2191ed884b5ce9428dcc81\n",
      "  Preparing metadata (setup.py): started\n",
      "  Preparing metadata (setup.py): finished with status 'done'\n",
      "Requirement already satisfied: accelerate>=0.25.0 in c:\\users\\ernest.lee\\scoop\\apps\\python\\current\\lib\\site-packages (from meshgpt-pytorch==1.2.18) (0.31.0)\n",
      "Requirement already satisfied: huggingface_hub>=0.21.4 in c:\\users\\ernest.lee\\scoop\\apps\\python\\current\\lib\\site-packages (from meshgpt-pytorch==1.2.18) (0.23.3)\n",
      "Requirement already satisfied: beartype in c:\\users\\ernest.lee\\scoop\\apps\\python\\current\\lib\\site-packages (from meshgpt-pytorch==1.2.18) (0.18.5)\n",
      "Requirement already satisfied: classifier-free-guidance-pytorch>=0.6.2 in c:\\users\\ernest.lee\\scoop\\apps\\python\\current\\lib\\site-packages (from meshgpt-pytorch==1.2.18) (0.6.4)\n",
      "Requirement already satisfied: einops>=0.7.0 in c:\\users\\ernest.lee\\scoop\\apps\\python\\current\\lib\\site-packages (from meshgpt-pytorch==1.2.18) (0.8.0)\n",
      "Requirement already satisfied: einx>=0.1.3 in c:\\users\\ernest.lee\\scoop\\apps\\python\\current\\lib\\site-packages (from einx[torch]>=0.1.3->meshgpt-pytorch==1.2.18) (0.2.2)\n",
      "Requirement already satisfied: ema-pytorch in c:\\users\\ernest.lee\\scoop\\apps\\python\\current\\lib\\site-packages (from meshgpt-pytorch==1.2.18) (0.4.8)\n",
      "Requirement already satisfied: local-attention>=1.9.0 in c:\\users\\ernest.lee\\scoop\\apps\\python\\current\\lib\\site-packages (from meshgpt-pytorch==1.2.18) (1.9.1)\n",
      "Requirement already satisfied: gateloop-transformer>=0.2.2 in c:\\users\\ernest.lee\\scoop\\apps\\python\\current\\lib\\site-packages (from meshgpt-pytorch==1.2.18) (0.2.4)\n",
      "Requirement already satisfied: numpy in c:\\users\\ernest.lee\\scoop\\apps\\python\\current\\lib\\site-packages (from meshgpt-pytorch==1.2.18) (1.26.3)\n",
      "Requirement already satisfied: pytorch-custom-utils>=0.0.9 in c:\\users\\ernest.lee\\scoop\\apps\\python\\current\\lib\\site-packages (from meshgpt-pytorch==1.2.18) (0.0.20)\n",
      "Requirement already satisfied: taylor-series-linear-attention>=0.1.6 in c:\\users\\ernest.lee\\scoop\\apps\\python\\current\\lib\\site-packages (from meshgpt-pytorch==1.2.18) (0.1.9)\n",
      "Requirement already satisfied: torch>=2.1 in c:\\users\\ernest.lee\\scoop\\apps\\python\\current\\lib\\site-packages (from meshgpt-pytorch==1.2.18) (2.3.1+cu121)\n",
      "Requirement already satisfied: torch_geometric in c:\\users\\ernest.lee\\scoop\\apps\\python\\current\\lib\\site-packages (from meshgpt-pytorch==1.2.18) (2.5.3)\n",
      "Requirement already satisfied: torchtyping in c:\\users\\ernest.lee\\scoop\\apps\\python\\current\\lib\\site-packages (from meshgpt-pytorch==1.2.18) (0.1.4)\n",
      "Requirement already satisfied: tqdm in c:\\users\\ernest.lee\\scoop\\apps\\python\\current\\lib\\site-packages (from meshgpt-pytorch==1.2.18) (4.66.4)\n",
      "Requirement already satisfied: vector-quantize-pytorch>=1.14.22 in c:\\users\\ernest.lee\\scoop\\apps\\python\\current\\lib\\site-packages (from meshgpt-pytorch==1.2.18) (1.14.24)\n",
      "Requirement already satisfied: x-transformers>=1.30.6 in c:\\users\\ernest.lee\\scoop\\apps\\python\\current\\lib\\site-packages (from meshgpt-pytorch==1.2.18) (1.30.16)\n",
      "Requirement already satisfied: packaging>=20.0 in c:\\users\\ernest.lee\\scoop\\apps\\python\\current\\lib\\site-packages (from accelerate>=0.25.0->meshgpt-pytorch==1.2.18) (24.1)\n",
      "Requirement already satisfied: psutil in c:\\users\\ernest.lee\\scoop\\apps\\python\\current\\lib\\site-packages (from accelerate>=0.25.0->meshgpt-pytorch==1.2.18) (5.9.8)\n",
      "Requirement already satisfied: pyyaml in c:\\users\\ernest.lee\\scoop\\apps\\python\\current\\lib\\site-packages (from accelerate>=0.25.0->meshgpt-pytorch==1.2.18) (6.0.1)\n",
      "Requirement already satisfied: safetensors>=0.3.1 in c:\\users\\ernest.lee\\scoop\\apps\\python\\current\\lib\\site-packages (from accelerate>=0.25.0->meshgpt-pytorch==1.2.18) (0.4.3)\n",
      "Requirement already satisfied: ftfy in c:\\users\\ernest.lee\\scoop\\apps\\python\\current\\lib\\site-packages (from classifier-free-guidance-pytorch>=0.6.2->meshgpt-pytorch==1.2.18) (6.2.0)\n",
      "Requirement already satisfied: open-clip-torch>=2.8.0 in c:\\users\\ernest.lee\\scoop\\apps\\python\\current\\lib\\site-packages (from classifier-free-guidance-pytorch>=0.6.2->meshgpt-pytorch==1.2.18) (2.24.0)\n",
      "Requirement already satisfied: transformers[torch] in c:\\users\\ernest.lee\\scoop\\apps\\python\\current\\lib\\site-packages (from classifier-free-guidance-pytorch>=0.6.2->meshgpt-pytorch==1.2.18) (4.41.2)\n",
      "Requirement already satisfied: sympy in c:\\users\\ernest.lee\\scoop\\apps\\python\\current\\lib\\site-packages (from einx>=0.1.3->einx[torch]>=0.1.3->meshgpt-pytorch==1.2.18) (1.12)\n",
      "Requirement already satisfied: frozendict in c:\\users\\ernest.lee\\scoop\\apps\\python\\current\\lib\\site-packages (from einx>=0.1.3->einx[torch]>=0.1.3->meshgpt-pytorch==1.2.18) (2.4.4)\n",
      "Requirement already satisfied: rotary-embedding-torch in c:\\users\\ernest.lee\\scoop\\apps\\python\\current\\lib\\site-packages (from gateloop-transformer>=0.2.2->meshgpt-pytorch==1.2.18) (0.6.2)\n",
      "Requirement already satisfied: filelock in c:\\users\\ernest.lee\\scoop\\apps\\python\\current\\lib\\site-packages (from huggingface_hub>=0.21.4->meshgpt-pytorch==1.2.18) (3.14.0)\n",
      "Requirement already satisfied: fsspec>=2023.5.0 in c:\\users\\ernest.lee\\scoop\\apps\\python\\current\\lib\\site-packages (from huggingface_hub>=0.21.4->meshgpt-pytorch==1.2.18) (2024.6.0)\n",
      "Requirement already satisfied: requests in c:\\users\\ernest.lee\\scoop\\apps\\python\\current\\lib\\site-packages (from huggingface_hub>=0.21.4->meshgpt-pytorch==1.2.18) (2.32.3)\n",
      "Requirement already satisfied: typing-extensions>=3.7.4.3 in c:\\users\\ernest.lee\\scoop\\apps\\python\\current\\lib\\site-packages (from huggingface_hub>=0.21.4->meshgpt-pytorch==1.2.18) (4.12.2)\n",
      "Requirement already satisfied: optree in c:\\users\\ernest.lee\\scoop\\apps\\python\\current\\lib\\site-packages (from pytorch-custom-utils>=0.0.9->meshgpt-pytorch==1.2.18) (0.11.0)\n",
      "Requirement already satisfied: pytorch-warmup in c:\\users\\ernest.lee\\scoop\\apps\\python\\current\\lib\\site-packages (from pytorch-custom-utils>=0.0.9->meshgpt-pytorch==1.2.18) (0.1.1)\n",
      "Requirement already satisfied: networkx in c:\\users\\ernest.lee\\scoop\\apps\\python\\current\\lib\\site-packages (from torch>=2.1->meshgpt-pytorch==1.2.18) (3.2.1)\n",
      "Requirement already satisfied: jinja2 in c:\\users\\ernest.lee\\scoop\\apps\\python\\current\\lib\\site-packages (from torch>=2.1->meshgpt-pytorch==1.2.18) (3.1.4)\n",
      "Requirement already satisfied: mkl<=2021.4.0,>=2021.1.1 in c:\\users\\ernest.lee\\scoop\\apps\\python\\current\\lib\\site-packages (from torch>=2.1->meshgpt-pytorch==1.2.18) (2021.4.0)\n",
      "Requirement already satisfied: colorama in c:\\users\\ernest.lee\\scoop\\apps\\python\\current\\lib\\site-packages (from tqdm->meshgpt-pytorch==1.2.18) (0.4.6)\n",
      "Requirement already satisfied: scipy in c:\\users\\ernest.lee\\scoop\\apps\\python\\current\\lib\\site-packages (from torch_geometric->meshgpt-pytorch==1.2.18) (1.13.1)\n",
      "Requirement already satisfied: aiohttp in c:\\users\\ernest.lee\\scoop\\apps\\python\\current\\lib\\site-packages (from torch_geometric->meshgpt-pytorch==1.2.18) (3.9.5)\n",
      "Requirement already satisfied: pyparsing in c:\\users\\ernest.lee\\scoop\\apps\\python\\current\\lib\\site-packages (from torch_geometric->meshgpt-pytorch==1.2.18) (3.1.2)\n",
      "Requirement already satisfied: scikit-learn in c:\\users\\ernest.lee\\scoop\\apps\\python\\current\\lib\\site-packages (from torch_geometric->meshgpt-pytorch==1.2.18) (1.5.0)\n",
      "Requirement already satisfied: typeguard>=2.11.1 in c:\\users\\ernest.lee\\scoop\\apps\\python\\current\\lib\\site-packages (from torchtyping->meshgpt-pytorch==1.2.18) (4.3.0)\n",
      "Requirement already satisfied: intel-openmp==2021.* in c:\\users\\ernest.lee\\scoop\\apps\\python\\current\\lib\\site-packages (from mkl<=2021.4.0,>=2021.1.1->torch>=2.1->meshgpt-pytorch==1.2.18) (2021.4.0)\n",
      "Requirement already satisfied: tbb==2021.* in c:\\users\\ernest.lee\\scoop\\apps\\python\\current\\lib\\site-packages (from mkl<=2021.4.0,>=2021.1.1->torch>=2.1->meshgpt-pytorch==1.2.18) (2021.11.0)\n",
      "Requirement already satisfied: torchvision in c:\\users\\ernest.lee\\scoop\\apps\\python\\current\\lib\\site-packages (from open-clip-torch>=2.8.0->classifier-free-guidance-pytorch>=0.6.2->meshgpt-pytorch==1.2.18) (0.18.1+cu121)\n",
      "Requirement already satisfied: regex in c:\\users\\ernest.lee\\scoop\\apps\\python\\current\\lib\\site-packages (from open-clip-torch>=2.8.0->classifier-free-guidance-pytorch>=0.6.2->meshgpt-pytorch==1.2.18) (2024.5.15)\n",
      "Requirement already satisfied: sentencepiece in c:\\users\\ernest.lee\\scoop\\apps\\python\\current\\lib\\site-packages (from open-clip-torch>=2.8.0->classifier-free-guidance-pytorch>=0.6.2->meshgpt-pytorch==1.2.18) (0.2.0)\n",
      "Requirement already satisfied: protobuf in c:\\users\\ernest.lee\\scoop\\apps\\python\\current\\lib\\site-packages (from open-clip-torch>=2.8.0->classifier-free-guidance-pytorch>=0.6.2->meshgpt-pytorch==1.2.18) (4.25.3)\n",
      "Requirement already satisfied: timm in c:\\users\\ernest.lee\\scoop\\apps\\python\\current\\lib\\site-packages (from open-clip-torch>=2.8.0->classifier-free-guidance-pytorch>=0.6.2->meshgpt-pytorch==1.2.18) (1.0.3)\n",
      "Requirement already satisfied: aiosignal>=1.1.2 in c:\\users\\ernest.lee\\scoop\\apps\\python\\current\\lib\\site-packages (from aiohttp->torch_geometric->meshgpt-pytorch==1.2.18) (1.3.1)\n",
      "Requirement already satisfied: attrs>=17.3.0 in c:\\users\\ernest.lee\\scoop\\apps\\python\\current\\lib\\site-packages (from aiohttp->torch_geometric->meshgpt-pytorch==1.2.18) (23.2.0)\n",
      "Requirement already satisfied: frozenlist>=1.1.1 in c:\\users\\ernest.lee\\scoop\\apps\\python\\current\\lib\\site-packages (from aiohttp->torch_geometric->meshgpt-pytorch==1.2.18) (1.4.1)\n",
      "Requirement already satisfied: multidict<7.0,>=4.5 in c:\\users\\ernest.lee\\scoop\\apps\\python\\current\\lib\\site-packages (from aiohttp->torch_geometric->meshgpt-pytorch==1.2.18) (6.0.5)\n",
      "Requirement already satisfied: yarl<2.0,>=1.0 in c:\\users\\ernest.lee\\scoop\\apps\\python\\current\\lib\\site-packages (from aiohttp->torch_geometric->meshgpt-pytorch==1.2.18) (1.9.4)\n",
      "Requirement already satisfied: wcwidth<0.3.0,>=0.2.12 in c:\\users\\ernest.lee\\scoop\\apps\\python\\current\\lib\\site-packages (from ftfy->classifier-free-guidance-pytorch>=0.6.2->meshgpt-pytorch==1.2.18) (0.2.13)\n",
      "Requirement already satisfied: MarkupSafe>=2.0 in c:\\users\\ernest.lee\\scoop\\apps\\python\\current\\lib\\site-packages (from jinja2->torch>=2.1->meshgpt-pytorch==1.2.18) (2.1.5)\n",
      "Requirement already satisfied: charset-normalizer<4,>=2 in c:\\users\\ernest.lee\\scoop\\apps\\python\\current\\lib\\site-packages (from requests->huggingface_hub>=0.21.4->meshgpt-pytorch==1.2.18) (3.3.2)\n",
      "Requirement already satisfied: idna<4,>=2.5 in c:\\users\\ernest.lee\\scoop\\apps\\python\\current\\lib\\site-packages (from requests->huggingface_hub>=0.21.4->meshgpt-pytorch==1.2.18) (3.7)\n",
      "Requirement already satisfied: urllib3<3,>=1.21.1 in c:\\users\\ernest.lee\\scoop\\apps\\python\\current\\lib\\site-packages (from requests->huggingface_hub>=0.21.4->meshgpt-pytorch==1.2.18) (2.2.1)\n",
      "Requirement already satisfied: certifi>=2017.4.17 in c:\\users\\ernest.lee\\scoop\\apps\\python\\current\\lib\\site-packages (from requests->huggingface_hub>=0.21.4->meshgpt-pytorch==1.2.18) (2024.6.2)\n",
      "Requirement already satisfied: joblib>=1.2.0 in c:\\users\\ernest.lee\\scoop\\apps\\python\\current\\lib\\site-packages (from scikit-learn->torch_geometric->meshgpt-pytorch==1.2.18) (1.4.2)\n",
      "Requirement already satisfied: threadpoolctl>=3.1.0 in c:\\users\\ernest.lee\\scoop\\apps\\python\\current\\lib\\site-packages (from scikit-learn->torch_geometric->meshgpt-pytorch==1.2.18) (3.5.0)\n",
      "Requirement already satisfied: mpmath>=0.19 in c:\\users\\ernest.lee\\scoop\\apps\\python\\current\\lib\\site-packages (from sympy->einx>=0.1.3->einx[torch]>=0.1.3->meshgpt-pytorch==1.2.18) (1.3.0)\n",
      "Requirement already satisfied: tokenizers<0.20,>=0.19 in c:\\users\\ernest.lee\\scoop\\apps\\python\\current\\lib\\site-packages (from transformers[torch]->classifier-free-guidance-pytorch>=0.6.2->meshgpt-pytorch==1.2.18) (0.19.1)\n",
      "Requirement already satisfied: pillow!=8.3.*,>=5.3.0 in c:\\users\\ernest.lee\\scoop\\apps\\python\\current\\lib\\site-packages (from torchvision->open-clip-torch>=2.8.0->classifier-free-guidance-pytorch>=0.6.2->meshgpt-pytorch==1.2.18) (10.2.0)\n",
      "Note: you may need to restart the kernel to use updated packages.\n"
     ]
    },
    {
     "name": "stderr",
     "output_type": "stream",
     "text": [
      "  Running command git clone --filter=blob:none --quiet https://github.com/MarcusLoppe/meshgpt-pytorch.git 'C:\\Users\\ernest.lee\\AppData\\Local\\Temp\\pip-req-build-w6d3j29h'\n"
     ]
    },
    {
     "name": "stdout",
     "output_type": "stream",
     "text": [
      "Requirement already satisfied: matplotlib in c:\\users\\ernest.lee\\scoop\\apps\\python\\current\\lib\\site-packages (3.9.0)\n",
      "Requirement already satisfied: contourpy>=1.0.1 in c:\\users\\ernest.lee\\scoop\\apps\\python\\current\\lib\\site-packages (from matplotlib) (1.2.1)\n",
      "Requirement already satisfied: cycler>=0.10 in c:\\users\\ernest.lee\\scoop\\apps\\python\\current\\lib\\site-packages (from matplotlib) (0.12.1)\n",
      "Requirement already satisfied: fonttools>=4.22.0 in c:\\users\\ernest.lee\\scoop\\apps\\python\\current\\lib\\site-packages (from matplotlib) (4.53.0)\n",
      "Requirement already satisfied: kiwisolver>=1.3.1 in c:\\users\\ernest.lee\\scoop\\apps\\python\\current\\lib\\site-packages (from matplotlib) (1.4.5)\n",
      "Requirement already satisfied: numpy>=1.23 in c:\\users\\ernest.lee\\scoop\\apps\\python\\current\\lib\\site-packages (from matplotlib) (1.26.3)\n",
      "Requirement already satisfied: packaging>=20.0 in c:\\users\\ernest.lee\\scoop\\apps\\python\\current\\lib\\site-packages (from matplotlib) (24.1)\n",
      "Requirement already satisfied: pillow>=8 in c:\\users\\ernest.lee\\scoop\\apps\\python\\current\\lib\\site-packages (from matplotlib) (10.2.0)\n",
      "Requirement already satisfied: pyparsing>=2.3.1 in c:\\users\\ernest.lee\\scoop\\apps\\python\\current\\lib\\site-packages (from matplotlib) (3.1.2)\n",
      "Requirement already satisfied: python-dateutil>=2.7 in c:\\users\\ernest.lee\\scoop\\apps\\python\\current\\lib\\site-packages (from matplotlib) (2.9.0.post0)\n",
      "Requirement already satisfied: six>=1.5 in c:\\users\\ernest.lee\\scoop\\apps\\python\\current\\lib\\site-packages (from python-dateutil>=2.7->matplotlib) (1.16.0)\n",
      "Note: you may need to restart the kernel to use updated packages.\n"
     ]
    }
   ],
   "source": [
    "%pip install git+https://github.com/MarcusLoppe/meshgpt-pytorch.git\n",
    "%pip install matplotlib"
   ]
  },
  {
   "cell_type": "code",
   "execution_count": 2,
   "id": "7baeb840",
   "metadata": {
    "lines_to_next_cell": 2
   },
   "outputs": [
    {
     "name": "stderr",
     "output_type": "stream",
     "text": [
      "c:\\Users\\ernest.lee\\scoop\\apps\\python\\current\\Lib\\site-packages\\tqdm\\auto.py:21: TqdmWarning: IProgress not found. Please update jupyter and ipywidgets. See https://ipywidgets.readthedocs.io/en/stable/user_install.html\n",
      "  from .autonotebook import tqdm as notebook_tqdm\n"
     ]
    }
   ],
   "source": [
    "from pathlib import Path \n",
    "import gc    \n",
    "import torch\n",
    "import os\n",
    "import torch  \n",
    "from meshgpt_pytorch import (\n",
    "    MeshTransformerTrainer,\n",
    "    MeshAutoencoderTrainer,\n",
    "    MeshAutoencoder,\n",
    "    MeshTransformer,MeshDataset\n",
    ")\n",
    "from meshgpt_pytorch.data import ( \n",
    "    derive_face_edges_from_faces\n",
    ")   "
   ]
  },
  {
   "cell_type": "code",
   "execution_count": 3,
   "id": "b27f4fec",
   "metadata": {},
   "outputs": [
    {
     "name": "stdout",
     "output_type": "stream",
     "text": [
      "[WinError 2] The system cannot find the file specified: '/Users/ernest.lee/Downloads/text-to-mesh'\n",
      "c:\\Users\\ernest.lee\\OneDrive\\Desktop\\text-to-mesh\n"
     ]
    },
    {
     "name": "stderr",
     "output_type": "stream",
     "text": [
      "C:\\Users\\ernest.lee\\AppData\\Roaming\\Python\\Python312\\site-packages\\IPython\\core\\magics\\osm.py:393: UserWarning: This is now an optional IPython functionality, using bookmarks requires you to install the `pickleshare` library.\n",
      "  bkms = self.shell.db.get('bookmarks', {})\n"
     ]
    }
   ],
   "source": [
    "%cd /Users/ernest.lee/Downloads/text-to-mesh"
   ]
  },
  {
   "cell_type": "code",
   "execution_count": 4,
   "id": "655619af",
   "metadata": {},
   "outputs": [],
   "source": [
    "device = \"cuda\" if torch.cuda.is_available() else \"cpu\""
   ]
  },
  {
   "cell_type": "code",
   "execution_count": 5,
   "id": "ce60e2b3",
   "metadata": {},
   "outputs": [],
   "source": [
    "autoencoder = MeshAutoencoder( \n",
    "        decoder_dims_through_depth =  (128,) * 6 + (192,) * 12 + (256,) * 24 + (384,) * 6,   \n",
    "        codebook_size = 2048, \n",
    "        dim_codebook = 192,  \n",
    "        dim_area_embed = 16,\n",
    "        dim_coor_embed = 16, \n",
    "        dim_normal_embed = 16,\n",
    "        dim_angle_embed = 8, \n",
    "        attn_decoder_depth  = 4,\n",
    "        attn_encoder_depth = 2) "
   ]
  },
  {
   "cell_type": "code",
   "execution_count": 6,
   "id": "37ecc8ed",
   "metadata": {},
   "outputs": [],
   "source": [
    "dataset = MeshDataset.load(\"./objverse_250f_229.7M_3086_labels_268650_10_min_x5_aug.npz\") \n",
    "dataset.sort_dataset_keys()\n",
    "print(\"length\", len(dataset.data))\n",
    "\n",
    "def format_value(value):\n",
    "    if value >= 1_000_000_000:\n",
    "        return f\"{value / 1_000_000_000:.1f}B\"\n",
    "    elif value >= 1_000_000:\n",
    "        return f\"{value / 1_000_000:.1f}M\"\n",
    "    else:\n",
    "        return f\"{value}\"\n",
    "\n",
    "tokens = 0\n",
    "for item in dataset.data:\n",
    "    tokens += len(item['faces']) * 6 \n",
    "total_tokens = format_value(tokens)\n",
    "print(\"Tokens:\", total_tokens)"
   ]
  },
  {
   "cell_type": "code",
   "execution_count": null,
   "id": "b3a9cefa",
   "metadata": {},
   "outputs": [
    {
     "ename": "RuntimeError",
     "evalue": "Error(s) in loading state_dict for MeshAutoencoder:\n\tsize mismatch for quantizer.project_in.weight: copying a param with shape torch.Size([11, 192]) from checkpoint, the shape in current model is torch.Size([14, 192]).\n\tsize mismatch for quantizer.project_in.bias: copying a param with shape torch.Size([11]) from checkpoint, the shape in current model is torch.Size([14]).\n\tsize mismatch for quantizer.project_out.weight: copying a param with shape torch.Size([192, 11]) from checkpoint, the shape in current model is torch.Size([192, 14]).\n\tsize mismatch for quantizer.layers.0.mask: copying a param with shape torch.Size([11]) from checkpoint, the shape in current model is torch.Size([14]).\n\tsize mismatch for quantizer.layers.1.mask: copying a param with shape torch.Size([11]) from checkpoint, the shape in current model is torch.Size([14]).",
     "output_type": "error",
     "traceback": [
      "\u001b[1;31m---------------------------------------------------------------------------\u001b[0m",
      "\u001b[1;31mRuntimeError\u001b[0m                              Traceback (most recent call last)",
      "Cell \u001b[1;32mIn[13], line 2\u001b[0m\n\u001b[0;32m      1\u001b[0m pkg \u001b[38;5;241m=\u001b[39m torch\u001b[38;5;241m.\u001b[39mload(\u001b[38;5;124m\"\u001b[39m\u001b[38;5;124m./mesh-autoencoder.ckpt.epoch_0_avg_loss_-0.06490_recon_0.3518_commit_-0.8334.pt\u001b[39m\u001b[38;5;124m\"\u001b[39m, map_location\u001b[38;5;241m=\u001b[39mtorch\u001b[38;5;241m.\u001b[39mdevice(device)) \n\u001b[1;32m----> 2\u001b[0m \u001b[43mautoencoder\u001b[49m\u001b[38;5;241;43m.\u001b[39;49m\u001b[43mload_state_dict\u001b[49m\u001b[43m(\u001b[49m\u001b[43mpkg\u001b[49m\u001b[43m[\u001b[49m\u001b[38;5;124;43m'\u001b[39;49m\u001b[38;5;124;43mmodel\u001b[39;49m\u001b[38;5;124;43m'\u001b[39;49m\u001b[43m]\u001b[49m\u001b[43m)\u001b[49m\n\u001b[0;32m      3\u001b[0m \u001b[38;5;28;01mfor\u001b[39;00m param \u001b[38;5;129;01min\u001b[39;00m autoencoder\u001b[38;5;241m.\u001b[39mparameters():\n\u001b[0;32m      4\u001b[0m     param\u001b[38;5;241m.\u001b[39mrequires_grad \u001b[38;5;241m=\u001b[39m \u001b[38;5;28;01mTrue\u001b[39;00m\n",
      "File \u001b[1;32mc:\\Users\\ernest.lee\\scoop\\apps\\python\\current\\Lib\\site-packages\\torch\\nn\\modules\\module.py:2189\u001b[0m, in \u001b[0;36mModule.load_state_dict\u001b[1;34m(self, state_dict, strict, assign)\u001b[0m\n\u001b[0;32m   2184\u001b[0m         error_msgs\u001b[38;5;241m.\u001b[39minsert(\n\u001b[0;32m   2185\u001b[0m             \u001b[38;5;241m0\u001b[39m, \u001b[38;5;124m'\u001b[39m\u001b[38;5;124mMissing key(s) in state_dict: \u001b[39m\u001b[38;5;132;01m{}\u001b[39;00m\u001b[38;5;124m. \u001b[39m\u001b[38;5;124m'\u001b[39m\u001b[38;5;241m.\u001b[39mformat(\n\u001b[0;32m   2186\u001b[0m                 \u001b[38;5;124m'\u001b[39m\u001b[38;5;124m, \u001b[39m\u001b[38;5;124m'\u001b[39m\u001b[38;5;241m.\u001b[39mjoin(\u001b[38;5;124mf\u001b[39m\u001b[38;5;124m'\u001b[39m\u001b[38;5;124m\"\u001b[39m\u001b[38;5;132;01m{\u001b[39;00mk\u001b[38;5;132;01m}\u001b[39;00m\u001b[38;5;124m\"\u001b[39m\u001b[38;5;124m'\u001b[39m \u001b[38;5;28;01mfor\u001b[39;00m k \u001b[38;5;129;01min\u001b[39;00m missing_keys)))\n\u001b[0;32m   2188\u001b[0m \u001b[38;5;28;01mif\u001b[39;00m \u001b[38;5;28mlen\u001b[39m(error_msgs) \u001b[38;5;241m>\u001b[39m \u001b[38;5;241m0\u001b[39m:\n\u001b[1;32m-> 2189\u001b[0m     \u001b[38;5;28;01mraise\u001b[39;00m \u001b[38;5;167;01mRuntimeError\u001b[39;00m(\u001b[38;5;124m'\u001b[39m\u001b[38;5;124mError(s) in loading state_dict for \u001b[39m\u001b[38;5;132;01m{}\u001b[39;00m\u001b[38;5;124m:\u001b[39m\u001b[38;5;130;01m\\n\u001b[39;00m\u001b[38;5;130;01m\\t\u001b[39;00m\u001b[38;5;132;01m{}\u001b[39;00m\u001b[38;5;124m'\u001b[39m\u001b[38;5;241m.\u001b[39mformat(\n\u001b[0;32m   2190\u001b[0m                        \u001b[38;5;28mself\u001b[39m\u001b[38;5;241m.\u001b[39m\u001b[38;5;18m__class__\u001b[39m\u001b[38;5;241m.\u001b[39m\u001b[38;5;18m__name__\u001b[39m, \u001b[38;5;124m\"\u001b[39m\u001b[38;5;130;01m\\n\u001b[39;00m\u001b[38;5;130;01m\\t\u001b[39;00m\u001b[38;5;124m\"\u001b[39m\u001b[38;5;241m.\u001b[39mjoin(error_msgs)))\n\u001b[0;32m   2191\u001b[0m \u001b[38;5;28;01mreturn\u001b[39;00m _IncompatibleKeys(missing_keys, unexpected_keys)\n",
      "\u001b[1;31mRuntimeError\u001b[0m: Error(s) in loading state_dict for MeshAutoencoder:\n\tsize mismatch for quantizer.project_in.weight: copying a param with shape torch.Size([11, 192]) from checkpoint, the shape in current model is torch.Size([14, 192]).\n\tsize mismatch for quantizer.project_in.bias: copying a param with shape torch.Size([11]) from checkpoint, the shape in current model is torch.Size([14]).\n\tsize mismatch for quantizer.project_out.weight: copying a param with shape torch.Size([192, 11]) from checkpoint, the shape in current model is torch.Size([192, 14]).\n\tsize mismatch for quantizer.layers.0.mask: copying a param with shape torch.Size([11]) from checkpoint, the shape in current model is torch.Size([14]).\n\tsize mismatch for quantizer.layers.1.mask: copying a param with shape torch.Size([11]) from checkpoint, the shape in current model is torch.Size([14])."
     ]
    }
   ],
   "source": [
    "pkg = torch.load(\"./mesh-autoencoder.ckpt.epoch_0_avg_loss_-0.06490_recon_0.3518_commit_-0.8334.pt\", map_location=torch.device(device)) \n",
    "autoencoder.load_state_dict(pkg['model'])\n",
    "for param in autoencoder.parameters():\n",
    "    param.requires_grad = True"
   ]
  },
  {
   "cell_type": "code",
   "execution_count": null,
   "id": "61c2cc14",
   "metadata": {
    "lines_to_next_cell": 2
   },
   "outputs": [],
   "source": [
    "import torch\n",
    " \n",
    "def combined_mesh_with_rows(path, meshes):\n",
    "    all_vertices = []\n",
    "    all_faces = []\n",
    "    vertex_offset = 0\n",
    "    translation_distance = 0.5  \n",
    "    obj_file_content = \"\"\n",
    "    \n",
    "    for row, mesh in enumerate(meshes): \n",
    "        for r, faces_coordinates in enumerate(mesh): \n",
    "            numpy_data = faces_coordinates[0].cpu().numpy().reshape(-1, 3)  \n",
    "            numpy_data[:, 0] += translation_distance * (r / 0.2 - 1)  \n",
    "            numpy_data[:, 2] += translation_distance * (row / 0.2 - 1)  \n",
    "        \n",
    "            for vertex in numpy_data:\n",
    "                all_vertices.append(f\"v {vertex[0]} {vertex[1]} {vertex[2]}\\n\")\n",
    "        \n",
    "            for i in range(1, len(numpy_data), 3):\n",
    "                all_faces.append(f\"f {i + vertex_offset} {i + 1 + vertex_offset} {i + 2 + vertex_offset}\\n\")\n",
    "        \n",
    "            vertex_offset += len(numpy_data)\n",
    "        \n",
    "        obj_file_content = \"\".join(all_vertices) + \"\".join(all_faces)\n",
    "     \n",
    "    with open(path , \"w\") as file:\n",
    "        file.write(obj_file_content)   \n",
    "        \n",
    "from meshgpt_pytorch import MeshAutoencoderTrainer, MeshAutoencoder, MeshDataset, mesh_render\n",
    "import tqdm\n",
    "import datetime\n",
    "min_mse, max_mse = float('inf'), float('-inf')\n",
    "min_coords, min_orgs, max_coords, max_orgs = None, None, None, None\n",
    "random_samples, random_samples_pred, all_random_samples = [], [], []\n",
    "total_mse, sample_size = 0.0, 200\n",
    "\n",
    "autoencoder = autoencoder.to(device)\n",
    "\n",
    "for item in tqdm.tqdm(dataset.data[:sample_size]):  # Use tqdm.tqdm here\n",
    "    item['faces'] = item['faces'].to(device)\n",
    "    item['vertices'] = item['vertices'].to(device)\n",
    "    item['face_edges'] = item['face_edges'].to(device)\n",
    "    codes = autoencoder.tokenize(vertices=item['vertices'], faces=item['faces'], face_edges=item['face_edges']) \n",
    "\n",
    "    codes = codes.flatten().unsqueeze(0)\n",
    "    codes = codes[:, :codes.shape[-1] // autoencoder.num_quantizers * autoencoder.num_quantizers] \n",
    "\n",
    "    coords, mask = autoencoder.decode_from_codes_to_faces(codes)\n",
    "    orgs = item['vertices'][item['faces']].unsqueeze(0)\n",
    "\n",
    "    mse = torch.mean((orgs.view(-1, 3).cpu() - coords.view(-1, 3).cpu())**2)\n",
    "    total_mse += mse \n",
    "\n",
    "    if mse < min_mse: min_mse, min_coords, min_orgs = mse, coords, orgs\n",
    "    if mse > max_mse: max_mse, max_coords, max_orgs = mse, coords, orgs\n",
    "\n",
    "    if len(random_samples) <= 30:\n",
    "        random_samples.append(coords) \n",
    "    else:\n",
    "        all_random_samples.extend([ random_samples])\n",
    "        random_samples, random_samples_pred = [], []\n",
    "\n",
    "print(f'MSE AVG: {total_mse / sample_size:.10f}, Min: {min_mse:.10f}, Max: {max_mse:.10f}')\n",
    "# now_utc = datetime.datetime.now(datetime.timezone.utc).isoformat().replace(\":\", \"_\").replace(\"+\", \"_\") \n",
    "combined_mesh_with_rows(f'./mse_rows.obj', all_random_samples)"
   ]
  }
 ],
 "metadata": {
  "kernelspec": {
   "display_name": "Python 3 (ipykernel)",
   "language": "python",
   "name": "python3"
  },
  "language_info": {
   "codemirror_mode": {
    "name": "ipython",
    "version": 3
   },
   "file_extension": ".py",
   "mimetype": "text/x-python",
   "name": "python",
   "nbconvert_exporter": "python",
   "pygments_lexer": "ipython3",
   "version": "3.12.3"
  }
 },
 "nbformat": 4,
 "nbformat_minor": 5
}
