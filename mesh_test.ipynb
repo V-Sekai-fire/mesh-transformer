{
 "cells": [
  {
   "cell_type": "code",
   "execution_count": null,
   "id": "aa5877e5",
   "metadata": {},
   "outputs": [],
   "source": [
    "import torch  \n",
    "from meshgpt_pytorch import (\n",
    "    MeshAutoencoder,\n",
    "    MeshTransformer,\n",
    ")\n",
    "import igl\n",
    "import gradio as gr"
   ]
  },
  {
   "cell_type": "code",
   "execution_count": null,
   "id": "20f511dc",
   "metadata": {},
   "outputs": [],
   "source": [
    "device = \"cuda\" if torch.cuda.is_available() else \"cpu\""
   ]
  },
  {
   "cell_type": "code",
   "execution_count": null,
   "id": "795fa21f",
   "metadata": {},
   "outputs": [],
   "source": [
    "autoencoder = MeshAutoencoder( \n",
    "        decoder_dims_through_depth =  (128,) * 6 + (192,) * 12 + (256,) * 24 + (384,) * 6,   \n",
    "        codebook_size =  2048, \n",
    "        dim_codebook = 192,  \n",
    "        dim_area_embed = 16,\n",
    "        dim_coor_embed = 16, \n",
    "        dim_normal_embed = 16,\n",
    "        dim_angle_embed = 8,\n",
    "    \n",
    "    attn_decoder_depth  = 4,\n",
    "    attn_encoder_depth = 2\n",
    "    ).to(device)"
   ]
  },
  {
   "cell_type": "code",
   "execution_count": null,
   "id": "0f724274",
   "metadata": {},
   "outputs": [],
   "source": [
    "transformer = MeshTransformer(\n",
    "    autoencoder,\n",
    "    dim = 768,\n",
    "    coarse_pre_gateloop_depth =2,  \n",
    "    fine_pre_gateloop_depth= 2, \n",
    "    attn_depth = 12,  \n",
    "    attn_heads = 12, \n",
    "    fine_cross_attend_text = True,\n",
    "    text_cond_with_film = False,\n",
    "    cross_attn_num_mem_kv = 4,\n",
    "    num_sos_tokens = 1, \n",
    "    dropout  = 0.0,\n",
    "    max_seq_len = 1500, \n",
    "    fine_attn_depth = 2,\n",
    "    condition_on_text = True, \n",
    "    gateloop_use_heinsen = False,\n",
    "    text_condition_model_types = \"bge\", \n",
    "    text_condition_cond_drop_prob = 0.25, \n",
    ").to(device) "
   ]
  },
  {
   "cell_type": "code",
   "execution_count": null,
   "id": "33309152",
   "metadata": {},
   "outputs": [],
   "source": [
    "pkg = torch.load(\"./mesh-transformer.ckpt.epoch_25_avg_loss_0.220.pt\") \n",
    "transformer.load_state_dict(pkg['model'],strict=False)"
   ]
  },
  {
   "cell_type": "code",
   "execution_count": null,
   "id": "95c8766d",
   "metadata": {
    "lines_to_next_cell": 1
   },
   "outputs": [],
   "source": [
    "from meshgpt_pytorch import mesh_render"
   ]
  },
  {
   "cell_type": "code",
   "execution_count": null,
   "id": "976aa215",
   "metadata": {
    "lines_to_next_cell": 1
   },
   "outputs": [],
   "source": [
    "def save_as_obj(file_path):\n",
    "    v, f = igl.read_triangle_mesh(file_path)\n",
    "    v, f, _, _ = igl.remove_unreferenced(v, f)\n",
    "    c, _ = igl.orientable_patches(f)\n",
    "    f, _ = igl.orient_outward(v, f, c)\n",
    "    igl.write_triangle_mesh(file_path, v, f)\n",
    "    return file_path"
   ]
  },
  {
   "cell_type": "code",
   "execution_count": null,
   "id": "2fc94239",
   "metadata": {
    "lines_to_next_cell": 1
   },
   "outputs": [],
   "source": [
    "def predict(text, num_input, num_temp):\n",
    "    transformer.eval()\n",
    "    labels = [label.strip() for label in text.split(',')]\n",
    "    output = []\n",
    "    if num_input > 1:\n",
    "        for label in labels:\n",
    "            output.append((transformer.generate(texts = [label ] * num_input, temperature = num_temp)))\n",
    "    else:\n",
    "        output.append((transformer.generate(texts = labels  , temperature = num_temp)))\n",
    "    mesh_render.save_rendering('./render.obj', output)\n",
    "    return save_as_obj('./render.obj')"
   ]
  },
  {
   "cell_type": "code",
   "execution_count": null,
   "id": "b884481a",
   "metadata": {},
   "outputs": [],
   "source": [
    "gradio_app = gr.Interface(\n",
    "    predict,\n",
    "    inputs=[\n",
    "        gr.Textbox(label=\"Enter labels, separated by commas\"),\n",
    "        gr.Number(value=1, label=\"Number of examples per input\"),\n",
    "        gr.Slider(minimum=0, maximum=1, value=0, label=\"Temperature (0 to 1)\")\n",
    "    ],\n",
    "    outputs=gr.Model3D(clear_color=[0.0, 0.0, 0.0, 0.0], label=\"3D Model\"),\n",
    "    title=\"MeshGPT Inference - (Rendering doesn't work, please download for best result)\",\n",
    ")"
   ]
  },
  {
   "cell_type": "code",
   "execution_count": null,
   "id": "14502aa4",
   "metadata": {},
   "outputs": [],
   "source": [
    "if __name__ == \"__main__\":\n",
    "    gradio_app.launch(share=False)"
   ]
  }
 ],
 "metadata": {
  "jupytext": {
   "cell_metadata_filter": "-all",
   "main_language": "python",
   "notebook_metadata_filter": "-all"
  },
  "language_info": {
   "name": "python"
  }
 },
 "nbformat": 4,
 "nbformat_minor": 5
}
